{
 "cells": [
  {
   "cell_type": "code",
   "execution_count": 1,
   "id": "37ad5b4d",
   "metadata": {},
   "outputs": [],
   "source": [
    "# Ans-1:-\n",
    "#     1.Mean\n",
    "#     2.Mode\n",
    "#     3.Median\n",
    "    "
   ]
  },
  {
   "cell_type": "code",
   "execution_count": 2,
   "id": "9a8f7bf3",
   "metadata": {},
   "outputs": [],
   "source": [
    "# Ans-2:-\n",
    "# Mean: The mean is calculated by summing up all the values in a dataset and dividing by the total number of values. It is affected by extreme values(outliers), as it takes into account every value in the dataset. The mean is useful when the dataset follows a roughly symmetric distribution.\n",
    "\n",
    "# Median: The median is the middle value in a dataset when the values are arranged in ascending or descending order. If the dataset has an odd number of values, the median is the value exactly in the middle. If the dataset has an even number of values, the median is the average of the two middle values. The median is not influenced by extreme values and is a good measure to use when dealing with skewed distributions or outliers.\n",
    "\n",
    "# Mode: The mode represents the most frequently occurring value or values in a dataset. Unlike the mean and median, the mode can be applied to categorical or discrete data as well. A dataset can have no mode (when no value appears more than once), one mode (unimodal), or multiple modes (multimodal). The mode is particularly useful for understanding the most common or popular value in a dataset."
   ]
  },
  {
   "cell_type": "code",
   "execution_count": 3,
   "id": "16765993",
   "metadata": {},
   "outputs": [],
   "source": [
    "# #Ans-3:-\n",
    "# Mean = (178 + 177 + 176 + 177 + 178.2 + 178 + 175 + 179 + 180 + 175 + 178.9 + 176.2 + 177 + 172.5 + 178 + 176.5) / 16\n",
    "# Mean ≈ 176.6625\n",
    "# To find the median, first, sort the values in ascending order:\n",
    "# 172.5, 175, 175, 176, 176.2, 176.5, ,177, 177, 177, 178, 178, 178, 178.2, 178.9, 179, 180\n",
    "# Since there are 16 values, the median is the average of the two middle values:\n",
    "# Median = (176 + 176.2) / 2\n",
    "# Median ≈ 176.1\n",
    "# Both 177 and 178 occur the most, with a frequency of 3 times each. Therefore, the mode for this dataset is 177 and 178."
   ]
  },
  {
   "cell_type": "code",
   "execution_count": null,
   "id": "b0b56708",
   "metadata": {},
   "outputs": [],
   "source": [
    "#Ans-4:-\n",
    "# Standard Deviation ~ 1.599"
   ]
  },
  {
   "cell_type": "code",
   "execution_count": 4,
   "id": "871ac6b8",
   "metadata": {},
   "outputs": [],
   "source": [
    "# Ans-5:-\n",
    "# Measures of dispersion, such as range, variance, and standard deviation, are used to quantify the spread or variability of a dataset. \n",
    "#They provide information about how the data points are dispersed or spread out around the measures of central tendency. \n",
    "\n",
    "# 1. Range: The range is the simplest measure of dispersion and represents the difference between the maximum and minimum values in a dataset.\n",
    "#It gives a rough estimate of the spread but doesn't take into account the distribution of the data.\n",
    "#For example, if we have a dataset of exam scores: [70, 80, 85, 90, 95], the range would be 95 - 70 = 25.\n",
    "\n",
    "# 2. Variance: The variance calculates the average squared deviation of each data point from the mean. \n",
    "#It provides a more comprehensive measure of dispersion by considering all the values in the dataset. \n",
    "#A higher variance indicates a wider spread, while a lower variance suggests the data points are closer to the mean. \n",
    "#Variance is calculated by summing the squared differences between each data point and the mean, divided by the total number of data points. \n",
    "#Using the same exam scores example, the variance would be calculated as:\n",
    "\n",
    "#    Variance = [(70-84)^2 + (80-84)^2 + (85-84)^2 + (90-84)^2 + (95-84)^2] / 5 ≈ 50.8\n",
    "\n",
    "# 3. Standard Deviation: The standard deviation is the square root of the variance and provides a measure of dispersion in the original units of the dataset.\n",
    "#The standard deviation gives an indication of how spread out the data points are from the mean. \n",
    "#A higher standard deviation implies a larger spread, while a lower standard deviation suggests the data points are closer to the mean. \n",
    "#In the exam scores example, the standard deviation would be approximately the square root of the variance, which is about 7.13."
   ]
  },
  {
   "cell_type": "code",
   "execution_count": 5,
   "id": "4c157030",
   "metadata": {},
   "outputs": [],
   "source": [
    "# Ans-6:-\n",
    "# A Venn diagram is a graphical representation of sets or groups that helps illustrate the relationships and overlaps between them.\n",
    "# It consists of overlapping circles or other shapes, where each shape represents a set and the overlapping regions represent the elements that belong to multiple sets."
   ]
  },
  {
   "cell_type": "code",
   "execution_count": 7,
   "id": "85e68eb5",
   "metadata": {},
   "outputs": [],
   "source": [
    "# Ans-7:-\n",
    "# (i)intersection{2,6}\n",
    "# (ii)union={0,2,3,4,5,6,7,8,10}\n"
   ]
  },
  {
   "cell_type": "code",
   "execution_count": 8,
   "id": "8984480b",
   "metadata": {},
   "outputs": [],
   "source": [
    "# Ans-8:-\n",
    "# Skewness is a statistical measure that quantifies the asymmetry or lack of symmetry in a dataset's distribution. It provides insight into the shape of the distribution by examining the elongation or tail on one side compared to the other.\n",
    "\n",
    "# Skewness can take on positive, negative, or zero values, each indicating a different characteristic of the data distribution:\n",
    "\n",
    "# Positive Skewness: A positive skew indicates that the tail of the distribution extends towards higher values, while the majority of the data points cluster towards the lower end. In other words, the distribution is skewed to the right. The mean tends to be greater than the median in positively skewed data.\n",
    "\n",
    "# Negative Skewness: A negative skew implies that the tail of the distribution extends towards lower values, while the bulk of the data clusters towards the higher end. In this case, the distribution is skewed to the left. The mean tends to be smaller than the median in negatively skewed data.\n",
    "\n",
    "# Zero Skewness: A skewness value of zero indicates a perfectly symmetric distribution, where the data is evenly distributed on both sides of the mean. The mean and median are approximately equal in a symmetric distribution."
   ]
  },
  {
   "cell_type": "code",
   "execution_count": 9,
   "id": "ec384319",
   "metadata": {},
   "outputs": [],
   "source": [
    "# Ans-9:-\n",
    "#     Median is smaller than mean"
   ]
  },
  {
   "cell_type": "code",
   "execution_count": 11,
   "id": "0d2a9667",
   "metadata": {},
   "outputs": [],
   "source": [
    "# Ans-10:-\n",
    "# Covariance measures the extent to which two variables vary together. It provides information about the direction (positive or negative) and strength of the linear relationship between two variables. However, covariance alone does not give a standardized measure, making it difficult to compare across different datasets or variables. The formula for covariance is:\n",
    "# Cov(X, Y) = Σ[(X - μX)(Y - μY)] / N\n",
    "\n",
    "# where X and Y are variables, μX and μY are their respective means, and N is the number of data points.\n",
    "\n",
    "# The sign of the covariance indicates the direction of the relationship. A positive covariance suggests that when one variable increases, the other tends to increase as well, and vice versa for negative covariance. However, the magnitude of covariance depends on the scales of the variables, making it challenging to interpret the strength of the relationship accurately.\n",
    "\n",
    "# Correlation:\n",
    "# Correlation, on the other hand, measures the strength and direction of the linear relationship between two variables, while also providing a standardized measure. It quantifies the degree of association between variables on a scale from -1 to 1. The formula for correlation (specifically Pearson correlation coefficient) is:\n",
    "# Corr(X, Y) = Cov(X, Y) / (σX * σY)\n",
    "\n",
    "# where Cov(X, Y) is the covariance, σX and σY are the standard deviations of X and Y, respectively.\n",
    "\n",
    "# The correlation coefficient ranges from -1 to 1. A correlation coefficient of -1 indicates a perfect negative linear relationship, 1 indicates a perfect positive linear relationship, and 0 indicates no linear relationship. The magnitude of the correlation coefficient also reflects the strength of the relationship, with values closer to -1 or 1 indicating a stronger association.\n",
    "\n",
    "# Correlation is often considered a more interpretable and widely used measure than covariance. It allows for easier comparison between different pairs of variables and is less influenced by the scales of the variables.\n",
    "\n",
    "# In statistical analysis, both covariance and correlation are used to understand the relationship between variables and assess the strength of association. They are important tools for data exploration, feature selection, and model building. Correlation, in particular, is frequently used to identify and quantify relationships in multivariate analysis, interpret the predictive power of variables, and detect collinearity among predictors in regression models."
   ]
  },
  {
   "cell_type": "code",
   "execution_count": 12,
   "id": "93fc2530",
   "metadata": {},
   "outputs": [],
   "source": [
    "# Ans-11:-\n",
    "# The formula for calculating the sample mean, denoted as x̄, is as follows:\n",
    "\n",
    "# x̄ = (sum of all data points) / (number of data points)\n",
    "\n",
    "# To calculate the sample mean, you sum up all the data points in the dataset and divide the sum by the total number of data points.\n",
    "# Example dataset: [12, 15, 18, 20, 22]\n",
    "\n",
    "# To calculate the sample mean:\n",
    "# x̄ = (12 + 15 + 18 + 20 + 22) / 5\n",
    "\n",
    "# x̄ = 87 / 5\n",
    "\n",
    "# x̄ = 17.4\n",
    "\n",
    "# Therefore, the sample mean for the given dataset is 17.4."
   ]
  },
  {
   "cell_type": "code",
   "execution_count": 13,
   "id": "2f65be4d",
   "metadata": {},
   "outputs": [],
   "source": [
    "# Ans-12:-\n",
    "# Mean=median=mode"
   ]
  },
  {
   "cell_type": "code",
   "execution_count": 14,
   "id": "c0d1dd58",
   "metadata": {},
   "outputs": [],
   "source": [
    "# Ans-13:-\n",
    "# Covariance: Covariance measures the direction and strength of the linear relationship between two variables. However, covariance alone does not provide a standardized measure, making it difficult to compare across different datasets or variables. Covariance can be positive, indicating a direct relationship, or negative, indicating an inverse relationship.\n",
    "# Correlation: Correlation also measures the strength and direction of the linear relationship between two variables, but it provides a standardized measure on a scale from -1 to 1. Correlation coefficients allow for easier comparison between different pairs of variables. A correlation coefficient of -1 indicates a perfect negative linear relationship, 1 indicates a perfect positive linear relationship, and 0 indicates no linear relationship."
   ]
  },
  {
   "cell_type": "code",
   "execution_count": 16,
   "id": "7e543ae2",
   "metadata": {},
   "outputs": [],
   "source": [
    "# Ans-14:-\n",
    "# Outliers can have a significant impact on measures of central tendency (mean, median, and mode) and measures of dispersion (range, variance, and standard deviation).\n",
    "\n",
    "# 1. Measures of Central Tendency:\n",
    "# a. Mean: Outliers can pull the mean towards their extreme values. For example, consider the dataset [10, 12, 13, 14, 100]. The mean of this dataset is 49.8, primarily due to the outlier value of 100. The mean is sensitive to extreme values, making it a less robust measure of central tendency.\n",
    "# b. Median: The median is less affected by outliers since it is resistant to extreme values. In the same example dataset, the median would be 13, which is closer to the typical values in the dataset.\n",
    "\n",
    "# 2. Measures of Dispersion:\n",
    "# a. Range: Outliers can significantly influence the range, as it is determined by the difference between the maximum and minimum values. In the previous example dataset, the range is 90 due to the outlier value of 100, while the range without the outlier would be 4.\n",
    "# b. Variance and Standard Deviation: Outliers can increase the variance and standard deviation, as these measures are influenced by the squared differences between each data point and the mean. Outliers, which often have large deviations from the mean, can inflate these measures. For instance, consider the dataset [10, 12, 13, 14, 100]. The variance and standard deviation of this dataset are significantly higher compared to a dataset without the outlier."
   ]
  },
  {
   "cell_type": "code",
   "execution_count": null,
   "id": "3016143c",
   "metadata": {},
   "outputs": [],
   "source": []
  }
 ],
 "metadata": {
  "kernelspec": {
   "display_name": "Python 3 (ipykernel)",
   "language": "python",
   "name": "python3"
  },
  "language_info": {
   "codemirror_mode": {
    "name": "ipython",
    "version": 3
   },
   "file_extension": ".py",
   "mimetype": "text/x-python",
   "name": "python",
   "nbconvert_exporter": "python",
   "pygments_lexer": "ipython3",
   "version": "3.9.13"
  }
 },
 "nbformat": 4,
 "nbformat_minor": 5
}
