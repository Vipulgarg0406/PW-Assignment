{
 "cells": [
  {
   "cell_type": "code",
   "execution_count": null,
   "id": "ba9cf343",
   "metadata": {},
   "outputs": [],
   "source": [
    "Ans 1:- Guido Van Russom\n",
    "Ans 2:- both procedural as well as object oriented\n",
    "Ans 3:- yes\n",
    "Ans 4:- .py\n",
    "Ans 5:- Interpreted\n",
    "Ans 6:- 1. Functional block\n",
    "    2. Conditional Block\n",
    "    3. Loop block\n",
    "Ans 7:- #\n",
    "Ans 8:- sys.version\n",
    "Ans 9:- Lambda Function\n",
    "Ans 10:- Pip Installs Package\n",
    "Ans 11:- type(),int(),str(),len(),print(),input(),float(),range(),min(),max(),sum()\n",
    "Ans 12:- 79 characters are recommended but there is no limit on size of identifier\n",
    "Ans 13:- 1. Readable\n",
    "    2. Simple\n",
    "    3. Large and active community\n",
    "    4. Cross-Platform\n",
    "    5. Open sorce and free\n",
    "    6.Wide range of applications, etc.\n",
    "Ans 14:- Memory management in Python is handled by the Python Memory Manager.\n",
    "    The memory manager is responsible for allocating and freeing memory in the Python program.\n",
    "Ans 15:- Python installer can be directly downloaded from www.python.org and we can install it directly very easily \n",
    "Ans 16:- Yes"
   ]
  }
 ],
 "metadata": {
  "kernelspec": {
   "display_name": "Python 3 (ipykernel)",
   "language": "python",
   "name": "python3"
  },
  "language_info": {
   "codemirror_mode": {
    "name": "ipython",
    "version": 3
   },
   "file_extension": ".py",
   "mimetype": "text/x-python",
   "name": "python",
   "nbconvert_exporter": "python",
   "pygments_lexer": "ipython3",
   "version": "3.9.13"
  }
 },
 "nbformat": 4,
 "nbformat_minor": 5
}
