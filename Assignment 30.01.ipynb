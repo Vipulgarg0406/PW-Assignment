{
 "cells": [
  {
   "cell_type": "code",
   "execution_count": 3,
   "id": "a16346bc",
   "metadata": {},
   "outputs": [
    {
     "name": "stdout",
     "output_type": "stream",
     "text": [
      "Enter the marks: 78\n",
      "Grade = C\n"
     ]
    }
   ],
   "source": [
    "# Ans 1:-\n",
    "num=int(input(\"Enter the marks: \"))\n",
    "if num>90:\n",
    "    grade=\"A\"\n",
    "elif num >80 and num <= 90:\n",
    "    grade=\"B\"\n",
    "elif num >=60 and num <= 80:\n",
    "    grade=\"C\"\n",
    "else:\n",
    "    grade=\"D\"\n",
    "print(\"Grade =\",grade)    "
   ]
  },
  {
   "cell_type": "code",
   "execution_count": 5,
   "id": "23853350",
   "metadata": {},
   "outputs": [
    {
     "name": "stdout",
     "output_type": "stream",
     "text": [
      "Enter the price of bike: 58075\n",
      "The road tax to be paid is Rs. 5807.5\n"
     ]
    }
   ],
   "source": [
    "# Ans 2:-\n",
    "price=int(input(\"Enter the price of bike: \"))\n",
    "if price > 100000:\n",
    "    road=price*0.15\n",
    "elif price > 50000 and price <= 100000:\n",
    "    road=price*0.1\n",
    "else:\n",
    "    road=price*0.05\n",
    "print(\"The road tax to be paid is Rs.\",road)\n"
   ]
  },
  {
   "cell_type": "code",
   "execution_count": 6,
   "id": "464df0ce",
   "metadata": {},
   "outputs": [
    {
     "name": "stdout",
     "output_type": "stream",
     "text": [
      "Enter the city: Agra\n",
      "Taj Mahal\n"
     ]
    }
   ],
   "source": [
    "#Ans 3:-\n",
    "city = input(\"Enter the city: \")\n",
    "if city==\"Agra\":\n",
    "    print(\"Taj Mahal\")\n",
    "elif city==\"Delhi\":\n",
    "    print(\"Red Fort\")\n",
    "elif city==\"Jaipur\":\n",
    "    print(\"Jai Mahal\")\n",
    "else:\n",
    "    print(\"Enter correct city\")"
   ]
  },
  {
   "cell_type": "code",
   "execution_count": 8,
   "id": "8f92fcb3",
   "metadata": {},
   "outputs": [
    {
     "name": "stdout",
     "output_type": "stream",
     "text": [
      "Enter the number: 3456\n",
      "The given number can be divided by '3' 6 times before it is less than or equal to 10.\n"
     ]
    }
   ],
   "source": [
    "#Ans 4:-\n",
    "num = int(input(\"Enter the number: \"))\n",
    "count = 0\n",
    "while num > 10:\n",
    "    num = num / 3\n",
    "    count += 1\n",
    "print(\"The given number can be divided by '3'\", count, \"times before it is less than or equal to 10.\")"
   ]
  },
  {
   "cell_type": "code",
   "execution_count": 12,
   "id": "e8add55d",
   "metadata": {},
   "outputs": [
    {
     "name": "stdout",
     "output_type": "stream",
     "text": [
      "1\n",
      "2\n",
      "3\n",
      "4\n",
      "5\n",
      "6\n",
      "7\n",
      "8\n",
      "9\n"
     ]
    }
   ],
   "source": [
    "#Ans 5:-\n",
    "# A while loop is a control flow statement in Python that allows you to execute a block of code repeatedly as long as \n",
    "# a certain condition is true. It is a very useful construct in programming and is commonly used in scenarios \n",
    "# where you need to repeat a certain operation until a specific condition is met.\n",
    "# Example :-\n",
    "num=1\n",
    "while(num<10):\n",
    "    print(num)\n",
    "    num=num+1"
   ]
  },
  {
   "cell_type": "code",
   "execution_count": 18,
   "id": "d6e17cbd",
   "metadata": {},
   "outputs": [
    {
     "name": "stdout",
     "output_type": "stream",
     "text": [
      "* \n",
      "* * \n",
      "* * * \n",
      "* * * * \n",
      "* * * * * \n"
     ]
    }
   ],
   "source": [
    "#Ans 6:-\n",
    "n = 5\n",
    "i = 1\n",
    "while i <= n:\n",
    "    j = 1\n",
    "    while j <= i:\n",
    "        print(\"* \", end=\"\")\n",
    "        j += 1\n",
    "    print()\n",
    "    i += 1"
   ]
  },
  {
   "cell_type": "code",
   "execution_count": 19,
   "id": "e6d3f47a",
   "metadata": {},
   "outputs": [
    {
     "name": "stdout",
     "output_type": "stream",
     "text": [
      "1 \n",
      "1 2 \n",
      "1 2 3 \n",
      "1 2 3 4 \n",
      "1 2 3 4 5 \n"
     ]
    }
   ],
   "source": [
    "n = 5\n",
    "i = 1\n",
    "while i <= n:\n",
    "    j = 1\n",
    "    while j <= i:\n",
    "        print(j, end=\" \")\n",
    "        j += 1\n",
    "    print()\n",
    "    i += 1"
   ]
  },
  {
   "cell_type": "code",
   "execution_count": 20,
   "id": "eac661bf",
   "metadata": {},
   "outputs": [
    {
     "name": "stdout",
     "output_type": "stream",
     "text": [
      "1 2 3 4 5 \n",
      "1 2 3 4 \n",
      "1 2 3 \n",
      "1 2 \n",
      "1 \n"
     ]
    }
   ],
   "source": [
    "n = 5\n",
    "i = n\n",
    "while i >= 1:\n",
    "    j = 1\n",
    "    while j <= i:\n",
    "        print(j, end=\" \")\n",
    "        j += 1\n",
    "    print()\n",
    "    i -= 1"
   ]
  },
  {
   "cell_type": "code",
   "execution_count": 21,
   "id": "edc305c6",
   "metadata": {},
   "outputs": [
    {
     "name": "stdout",
     "output_type": "stream",
     "text": [
      "10\n",
      "9\n",
      "8\n",
      "7\n",
      "6\n",
      "5\n",
      "4\n",
      "3\n",
      "2\n",
      "1\n"
     ]
    }
   ],
   "source": [
    "#Ans 7:-\n",
    "i = 10\n",
    "while i >= 1:\n",
    "    print(i)\n",
    "    i -= 1"
   ]
  },
  {
   "cell_type": "code",
   "execution_count": 22,
   "id": "607560c6",
   "metadata": {},
   "outputs": [
    {
     "name": "stdout",
     "output_type": "stream",
     "text": [
      "10\n",
      "9\n",
      "8\n",
      "7\n",
      "6\n",
      "5\n",
      "4\n",
      "3\n",
      "2\n",
      "1\n"
     ]
    }
   ],
   "source": [
    "#Ans 8:-\n",
    "i = 10\n",
    "while i >= 1:\n",
    "    print(i)\n",
    "    i -= 1"
   ]
  },
  {
   "cell_type": "code",
   "execution_count": null,
   "id": "fc6978db",
   "metadata": {},
   "outputs": [],
   "source": []
  }
 ],
 "metadata": {
  "kernelspec": {
   "display_name": "Python 3 (ipykernel)",
   "language": "python",
   "name": "python3"
  },
  "language_info": {
   "codemirror_mode": {
    "name": "ipython",
    "version": 3
   },
   "file_extension": ".py",
   "mimetype": "text/x-python",
   "name": "python",
   "nbconvert_exporter": "python",
   "pygments_lexer": "ipython3",
   "version": "3.9.13"
  }
 },
 "nbformat": 4,
 "nbformat_minor": 5
}
