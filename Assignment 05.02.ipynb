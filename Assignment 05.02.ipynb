{
 "cells": [
  {
   "cell_type": "code",
   "execution_count": 5,
   "id": "5bb1e167",
   "metadata": {},
   "outputs": [],
   "source": [
    "#Ans 1:-\n",
    "# Class is blueprint or template for creating objects that define the properies and behavior of objects\n",
    "# An object is the instance of a class that contains data and has its own unique set of data behaviour\n",
    "# Example:- It is a class named first which has 2 methode/function i.e. inside and down\n",
    "class first():\n",
    "    def inside(self):\n",
    "        return \"I am inside\"\n",
    "    def down(self):\n",
    "        return \"I am in down\""
   ]
  },
  {
   "cell_type": "code",
   "execution_count": 6,
   "id": "be553ffc",
   "metadata": {},
   "outputs": [],
   "source": [
    "#It is object of the class which can be used to call any function /method of the class\n",
    "fi=first()"
   ]
  },
  {
   "cell_type": "code",
   "execution_count": 7,
   "id": "1ad72cd0",
   "metadata": {},
   "outputs": [
    {
     "data": {
      "text/plain": [
       "'I am inside'"
      ]
     },
     "execution_count": 7,
     "metadata": {},
     "output_type": "execute_result"
    }
   ],
   "source": [
    "fi.inside()"
   ]
  },
  {
   "cell_type": "code",
   "execution_count": 8,
   "id": "ec90fb5c",
   "metadata": {},
   "outputs": [],
   "source": [
    "# #Ans 2:-\n",
    "# 4 pillars of OOPS are:-\n",
    "# 1. Polimorphism\n",
    "# 2. Inheritance\n",
    "# 3. Abstraction\n",
    "# 4. Encapsulation"
   ]
  },
  {
   "cell_type": "code",
   "execution_count": 12,
   "id": "2efdb594",
   "metadata": {},
   "outputs": [],
   "source": [
    "#Ans 3:-\n",
    "# __init__ function is a special kind of function in a class of python which is called automatically when the object of class is created\n",
    "# It is also known as constuctor method\n",
    "# Example of __init__ function:-\n",
    "class person:\n",
    "    def __init__(self,name,age,marks):\n",
    "        self.name=name\n",
    "        self.age=age\n",
    "        self.marks=marks\n",
    "        print(\"All the variables are initilased successfully\")\n",
    "    def display(self):\n",
    "        print(\"Name = \",self.name, \"Age = \",self.age, \"Marks = \",self.marks)"
   ]
  },
  {
   "cell_type": "code",
   "execution_count": 14,
   "id": "b8948a22",
   "metadata": {},
   "outputs": [
    {
     "name": "stdout",
     "output_type": "stream",
     "text": [
      "All the variables are initilased successfully\n"
     ]
    }
   ],
   "source": [
    "p1=person(\"Vipul\",34,67)"
   ]
  },
  {
   "cell_type": "code",
   "execution_count": 15,
   "id": "dff30baf",
   "metadata": {},
   "outputs": [
    {
     "name": "stdout",
     "output_type": "stream",
     "text": [
      "All the variables are initilased successfully\n"
     ]
    }
   ],
   "source": [
    "p2=person(\"Abc\",12,78)"
   ]
  },
  {
   "cell_type": "code",
   "execution_count": 16,
   "id": "a41f1875",
   "metadata": {},
   "outputs": [
    {
     "name": "stdout",
     "output_type": "stream",
     "text": [
      "Name =  Vipul Age =  34 Marks =  67\n"
     ]
    }
   ],
   "source": [
    "p1.display()"
   ]
  },
  {
   "cell_type": "code",
   "execution_count": 17,
   "id": "7f49ed6d",
   "metadata": {},
   "outputs": [
    {
     "name": "stdout",
     "output_type": "stream",
     "text": [
      "Name =  Abc Age =  12 Marks =  78\n"
     ]
    }
   ],
   "source": [
    "p2.display()"
   ]
  },
  {
   "cell_type": "code",
   "execution_count": 18,
   "id": "a066827c",
   "metadata": {},
   "outputs": [],
   "source": [
    "# Ans 4:-\n",
    "# In OOPS, self is used to refer to the instance of a class. \n",
    "# It is a special variable that is passed as the first argument to a method/function inside a class in Python."
   ]
  },
  {
   "cell_type": "code",
   "execution_count": 19,
   "id": "5c09e8b3",
   "metadata": {},
   "outputs": [],
   "source": [
    "# Ans 5:-\n",
    "# Inheritance is special method in oops in which one class inherits the methods and properties of another class\n",
    "# The class which inherites the properties of other class is know as derived/child class\n",
    "# whearas the class whose properties are inherited by child class is known as base/parent class\n",
    "# There are 5 types of inheritance:-"
   ]
  },
  {
   "cell_type": "code",
   "execution_count": 22,
   "id": "179fe58b",
   "metadata": {},
   "outputs": [],
   "source": [
    "# 1. Single inheritance:- In it one class is inherited by another class\n",
    "# For eg:-\n",
    "class first():\n",
    "    def fun():\n",
    "        return \"I am first class\"\n",
    "class second(first):\n",
    "    pass\n",
    "# in it first class is inherited by second class"
   ]
  },
  {
   "cell_type": "code",
   "execution_count": 24,
   "id": "ae6aa5bb",
   "metadata": {},
   "outputs": [],
   "source": [
    "# 2. Multiple inheritance:- in it one class inherits the properties of more than 1 parent class\n",
    "class first():\n",
    "    def fun():\n",
    "        return \"I am first class\"\n",
    "class second():\n",
    "    def fun1():\n",
    "        return \"I am second class\"\n",
    "class child(first,second):\n",
    "    pass\n",
    "#In it the class child is inheriting the properties of first and second class"
   ]
  },
  {
   "cell_type": "code",
   "execution_count": 25,
   "id": "6f4f5109",
   "metadata": {},
   "outputs": [],
   "source": [
    "# 3. Multilevel inheritance:- In it firstly one class inherits the properties of other class then a other third class also inherits its properties\n",
    "class first():\n",
    "    def fun():\n",
    "        return \"I am first class\"\n",
    "class second(first):\n",
    "    def fun1():\n",
    "        return \"I am second class\"\n",
    "class third(second):\n",
    "    pass\n",
    "#In it the class second is inheriting the properties of class first and moreover its properites are inherited by class third"
   ]
  },
  {
   "cell_type": "code",
   "execution_count": 27,
   "id": "1606d5b8",
   "metadata": {},
   "outputs": [],
   "source": [
    "#4. Hirarchical Inheritance:- In it more than one class is derived from one single parent class\n",
    "class first():\n",
    "    def fun():\n",
    "        return \"I am first class\"\n",
    "class second(first):\n",
    "    def fun1():\n",
    "        return \"I am second class\"\n",
    "class third(first):\n",
    "    def fun2():\n",
    "        return\"I am third class\"\n",
    "#In it the properties of class first are inherited by class second as well as by class third"
   ]
  },
  {
   "cell_type": "code",
   "execution_count": 29,
   "id": "18a71d7e",
   "metadata": {},
   "outputs": [],
   "source": [
    "#5. Hybrid inheritance:- It is a type of inheritance in which more than 1 type of inheritance is mixed\n",
    "class first():\n",
    "    def fun():\n",
    "        return \"I am first class\"\n",
    "class second():\n",
    "    def fun1():\n",
    "        return \"I am second class\"\n",
    "class third(first,second):\n",
    "    def fun2():\n",
    "        return\"I am third class\"\n",
    "class fourth(third):\n",
    "    def fun3():\n",
    "        return\"I am fourth class\"\n",
    "#This example is mixture of multiple and single inheritance as the class third is inheriting the properties of class first and second \n",
    "# and moreover the class foruth is inheritng the properties of class third"
   ]
  },
  {
   "cell_type": "code",
   "execution_count": null,
   "id": "4be80cbe",
   "metadata": {},
   "outputs": [],
   "source": []
  }
 ],
 "metadata": {
  "kernelspec": {
   "display_name": "Python 3 (ipykernel)",
   "language": "python",
   "name": "python3"
  },
  "language_info": {
   "codemirror_mode": {
    "name": "ipython",
    "version": 3
   },
   "file_extension": ".py",
   "mimetype": "text/x-python",
   "name": "python",
   "nbconvert_exporter": "python",
   "pygments_lexer": "ipython3",
   "version": "3.9.13"
  }
 },
 "nbformat": 4,
 "nbformat_minor": 5
}
