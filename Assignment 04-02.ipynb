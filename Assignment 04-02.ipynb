{
 "cells": [
  {
   "cell_type": "code",
   "execution_count": 2,
   "id": "73ade841",
   "metadata": {},
   "outputs": [],
   "source": [
    "#Ans 1:-\n",
    "l=[(\"Sachin Tendulkar\", 34357),(\"Ricky Ponting\", 27383),(\"Jack Kallis\", 25534),(\"Virat Kohli\", 24936)]"
   ]
  },
  {
   "cell_type": "code",
   "execution_count": 4,
   "id": "baafe963",
   "metadata": {},
   "outputs": [],
   "source": [
    "players=sorted(l,key = lambda x: x[1])"
   ]
  },
  {
   "cell_type": "code",
   "execution_count": 6,
   "id": "ab712006",
   "metadata": {},
   "outputs": [
    {
     "data": {
      "text/plain": [
       "[('Virat Kohli', 24936),\n",
       " ('Jack Kallis', 25534),\n",
       " ('Ricky Ponting', 27383),\n",
       " ('Sachin Tendulkar', 34357)]"
      ]
     },
     "execution_count": 6,
     "metadata": {},
     "output_type": "execute_result"
    }
   ],
   "source": [
    "players"
   ]
  },
  {
   "cell_type": "code",
   "execution_count": 20,
   "id": "cf4f725b",
   "metadata": {},
   "outputs": [
    {
     "data": {
      "text/plain": [
       "(1, 4, 9, 16, 25, 36, 49, 64, 81, 100)"
      ]
     },
     "execution_count": 20,
     "metadata": {},
     "output_type": "execute_result"
    }
   ],
   "source": [
    "#Ans 2:-\n",
    "vipul= [1,2,3,4,5,6,7,8,9,10]\n",
    "tuple(map(lambda x: x**2, vipul))"
   ]
  },
  {
   "cell_type": "code",
   "execution_count": 17,
   "id": "eeca2f3b",
   "metadata": {},
   "outputs": [
    {
     "name": "stdout",
     "output_type": "stream",
     "text": [
      "('1', '2', '3', '4', '5', '6', '7', '8', '9', '10')\n"
     ]
    }
   ],
   "source": [
    "#Ans 3:-\n",
    "numbers = [1,2,3,4,5,6,7,8,9,10]\n",
    "\n",
    "string_tuple = tuple(map(lambda x: str(x), numbers))\n",
    "\n",
    "print(string_tuple)"
   ]
  },
  {
   "cell_type": "code",
   "execution_count": 26,
   "id": "d34a1e51",
   "metadata": {},
   "outputs": [
    {
     "data": {
      "text/plain": [
       "15511210043330985984000000"
      ]
     },
     "execution_count": 26,
     "metadata": {},
     "output_type": "execute_result"
    }
   ],
   "source": [
    "#Ans 4:-\n",
    "from functools import reduce\n",
    "num=[]\n",
    "for i in range(1,26):\n",
    "    num.append(i)\n",
    "reduce(lambda x,y : x*y,num)"
   ]
  },
  {
   "cell_type": "code",
   "execution_count": 30,
   "id": "4101d1b5",
   "metadata": {},
   "outputs": [
    {
     "data": {
      "text/plain": [
       "(6, 60, 90, 120)"
      ]
     },
     "execution_count": 30,
     "metadata": {},
     "output_type": "execute_result"
    }
   ],
   "source": [
    "#Ans 5:-\n",
    "l=[2,3,6,9,27,60,90,120,55,46]\n",
    "tuple(filter(lambda x : x%2==0 and x%3==0,l))"
   ]
  },
  {
   "cell_type": "code",
   "execution_count": 33,
   "id": "0dac7a0f",
   "metadata": {},
   "outputs": [],
   "source": [
    "#Ans 6:-\n",
    "lis=['python','php','aba','radar','level']"
   ]
  },
  {
   "cell_type": "code",
   "execution_count": 37,
   "id": "6440b8ee",
   "metadata": {},
   "outputs": [],
   "source": [
    "palindrome= tuple(filter(lambda c: c==c[::-1],lis))"
   ]
  },
  {
   "cell_type": "code",
   "execution_count": 38,
   "id": "b357631d",
   "metadata": {},
   "outputs": [
    {
     "name": "stdout",
     "output_type": "stream",
     "text": [
      "('php', 'aba', 'radar', 'level')\n"
     ]
    }
   ],
   "source": [
    "print(palindrome)"
   ]
  },
  {
   "cell_type": "code",
   "execution_count": null,
   "id": "e9843ea7",
   "metadata": {},
   "outputs": [],
   "source": []
  }
 ],
 "metadata": {
  "kernelspec": {
   "display_name": "Python 3 (ipykernel)",
   "language": "python",
   "name": "python3"
  },
  "language_info": {
   "codemirror_mode": {
    "name": "ipython",
    "version": 3
   },
   "file_extension": ".py",
   "mimetype": "text/x-python",
   "name": "python",
   "nbconvert_exporter": "python",
   "pygments_lexer": "ipython3",
   "version": "3.9.13"
  }
 },
 "nbformat": 4,
 "nbformat_minor": 5
}
